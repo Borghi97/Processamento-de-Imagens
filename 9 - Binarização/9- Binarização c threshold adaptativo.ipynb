{
 "cells": [
  {
   "cell_type": "code",
   "execution_count": 1,
   "id": "d9cdd9eb-43f3-4253-a0ef-a92591f2e085",
   "metadata": {},
   "outputs": [
    {
     "name": "stdout",
     "output_type": "stream",
     "text": [
      "4.7.0\n"
     ]
    }
   ],
   "source": [
    "from matplotlib import pyplot as plt\n",
    "import numpy as np\n",
    "import cv2\n",
    "print(cv2.__version__)\n"
   ]
  },
  {
   "cell_type": "code",
   "execution_count": 6,
   "id": "705e1eea-4222-4146-a534-efb988137e40",
   "metadata": {},
   "outputs": [
    {
     "data": {
      "text/plain": [
       "-1"
      ]
     },
     "execution_count": 6,
     "metadata": {},
     "output_type": "execute_result"
    }
   ],
   "source": [
    "img = cv2.imread('estrada.jpg')\n",
    "img = cv2.cvtColor(img, cv2.COLOR_BGR2GRAY)\n",
    "\n",
    "suave = cv2.GaussianBlur(img, (7,7), 0) #aplica o blur\n",
    "\n",
    "#No codigo realizamos a suavização da img, o processo de binarização com threshold de 160 e a inversão da img binarizada\n",
    "(T, bin) = cv2.threshold(suave, 160, 255, cv2.THRESH_BINARY)\n",
    "(T, binI) = cv2.threshold(suave, 160, 255, cv2.THRESH_BINARY_INV)\n",
    "resultado = np.vstack([\n",
    "\n",
    "np.hstack([suave, bin]),\n",
    "    np.hstack([binI, cv2.bitwise_and(img, img, mask = binI)])\n",
    "    \n",
    "])\n",
    "\n",
    "cv2.imshow(\"Binarização da imagem\", resultado)\n",
    "cv2.imwrite(\"Imagem Binarizada.jpg\", resultado)\n",
    "cv2.waitKey(0)\n",
    "\n",
    "\n"
   ]
  },
  {
   "cell_type": "code",
   "execution_count": null,
   "id": "12258455-f556-4bc2-8300-bfa983545a17",
   "metadata": {},
   "outputs": [],
   "source": []
  }
 ],
 "metadata": {
  "kernelspec": {
   "display_name": "Python 3 (ipykernel)",
   "language": "python",
   "name": "python3"
  },
  "language_info": {
   "codemirror_mode": {
    "name": "ipython",
    "version": 3
   },
   "file_extension": ".py",
   "mimetype": "text/x-python",
   "name": "python",
   "nbconvert_exporter": "python",
   "pygments_lexer": "ipython3",
   "version": "3.9.13"
  }
 },
 "nbformat": 4,
 "nbformat_minor": 5
}
