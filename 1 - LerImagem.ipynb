{
 "cells": [
  {
   "cell_type": "code",
   "execution_count": 1,
   "id": "cc3ce837-4811-4eea-b383-2724f3790d7e",
   "metadata": {},
   "outputs": [],
   "source": [
    "#Primeiro programa lendo a imagem definindo qtde de pixels (altura/largura/canais e salvando)\n",
    "import cv2"
   ]
  },
  {
   "cell_type": "code",
   "execution_count": 2,
   "id": "af8cfec1-4266-4521-9c4c-6362b265248e",
   "metadata": {},
   "outputs": [],
   "source": [
    "imagem = cv2.imread('narutinho.jpg')"
   ]
  },
  {
   "cell_type": "code",
   "execution_count": 5,
   "id": "5a50f14f-fb9b-43be-84f3-821ed93339d4",
   "metadata": {},
   "outputs": [
    {
     "name": "stdout",
     "output_type": "stream",
     "text": [
      "Largura em pixels: 640\n",
      "Altura em pixels: 480\n",
      "Qtde de canais: 3\n"
     ]
    }
   ],
   "source": [
    "print('Largura em pixels: ', end='')\n",
    "print(imagem.shape[1]) #largura da img\n",
    "print('Altura em pixels: ', end='')\n",
    "print(imagem.shape[0]) #altura da img\n",
    "print('Qtde de canais: ', end= '')\n",
    "print(imagem.shape[2])"
   ]
  },
  {
   "cell_type": "code",
   "execution_count": 6,
   "id": "db741e7c-f92b-4c22-86a6-baaea749ccfa",
   "metadata": {},
   "outputs": [
    {
     "data": {
      "text/plain": [
       "True"
      ]
     },
     "execution_count": 6,
     "metadata": {},
     "output_type": "execute_result"
    }
   ],
   "source": [
    "cv2.imshow(\"Janela\", imagem) #mostrando a imagem com func imshow\n",
    "cv2.waitKey(0) #espera pressionar qlqr tecla\n",
    "cv2.imwrite(\"saida.jpg\", imagem) #salvar img no hd com func imwrite"
   ]
  },
  {
   "cell_type": "code",
   "execution_count": null,
   "id": "fbf64541-d8db-481e-98a1-a835a0fa5e46",
   "metadata": {},
   "outputs": [],
   "source": []
  }
 ],
 "metadata": {
  "kernelspec": {
   "display_name": "Python 3 (ipykernel)",
   "language": "python",
   "name": "python3"
  },
  "language_info": {
   "codemirror_mode": {
    "name": "ipython",
    "version": 3
   },
   "file_extension": ".py",
   "mimetype": "text/x-python",
   "name": "python",
   "nbconvert_exporter": "python",
   "pygments_lexer": "ipython3",
   "version": "3.9.13"
  }
 },
 "nbformat": 4,
 "nbformat_minor": 5
}
