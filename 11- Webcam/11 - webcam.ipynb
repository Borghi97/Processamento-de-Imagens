{
 "cells": [
  {
   "cell_type": "code",
   "execution_count": 1,
   "id": "d9cdd9eb-43f3-4253-a0ef-a92591f2e085",
   "metadata": {},
   "outputs": [
    {
     "name": "stdout",
     "output_type": "stream",
     "text": [
      "4.7.0\n"
     ]
    }
   ],
   "source": [
    "from matplotlib import pyplot as plt\n",
    "import numpy as np\n",
    "import cv2\n",
    "print(cv2.__version__)\n"
   ]
  },
  {
   "cell_type": "code",
   "execution_count": null,
   "id": "73ca46d5-799f-4bf8-aee8-a680186cf23c",
   "metadata": {},
   "outputs": [],
   "source": [
    "webcam = cv2.VideoCapture(0) #conectar webcam do pc\n",
    "if webcam.isOpened():\n",
    "    validacao, frame = webcam.read() #validando se a webcam esta 'ligada'\n",
    "    while validacao:\n",
    "        validacao, frame = webcam.read()\n",
    "        cv2.imshow(\"Video da Webcam\", frame) #mostrando a webcam\n",
    "        key = cv2.waitKey(5)\n",
    "        if key == 27: # ESC\n",
    "            break\n",
    "    cv2.imwrite(\"FotodaWebCAM.png\", frame) #tirando print da tela\n",
    "\n",
    "webcam.release()\n",
    "cv2.destroyAllWindows()\n"
   ]
  }
 ],
 "metadata": {
  "kernelspec": {
   "display_name": "Python 3 (ipykernel)",
   "language": "python",
   "name": "python3"
  },
  "language_info": {
   "codemirror_mode": {
    "name": "ipython",
    "version": 3
   },
   "file_extension": ".py",
   "mimetype": "text/x-python",
   "name": "python",
   "nbconvert_exporter": "python",
   "pygments_lexer": "ipython3",
   "version": "3.9.13"
  }
 },
 "nbformat": 4,
 "nbformat_minor": 5
}
