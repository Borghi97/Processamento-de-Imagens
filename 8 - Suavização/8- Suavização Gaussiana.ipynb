{
 "cells": [
  {
   "cell_type": "code",
   "execution_count": 1,
   "id": "d9cdd9eb-43f3-4253-a0ef-a92591f2e085",
   "metadata": {},
   "outputs": [
    {
     "name": "stdout",
     "output_type": "stream",
     "text": [
      "4.7.0\n"
     ]
    }
   ],
   "source": [
    "from matplotlib import pyplot as plt\n",
    "import numpy as np\n",
    "import cv2\n",
    "print(cv2.__version__)\n"
   ]
  },
  {
   "cell_type": "code",
   "execution_count": 2,
   "id": "705e1eea-4222-4146-a534-efb988137e40",
   "metadata": {},
   "outputs": [
    {
     "data": {
      "text/plain": [
       "-1"
      ]
     },
     "execution_count": 2,
     "metadata": {},
     "output_type": "execute_result"
    }
   ],
   "source": [
    "img = cv2.imread('ponte.jpg')\n",
    "\n",
    "img = img[::2, ::2]\n",
    "\n",
    "\n",
    "# Ao invés do filtro de caixa é utilizado um kernel gaussiano calculado atraves da func cv2.GaussianBlur().\n",
    "# A função existe a especificação de uma largura e altura com números impares.\n",
    "suave = np.vstack([\n",
    " np.hstack([img,\n",
    " cv2.GaussianBlur(img, ( 3, 3), 0)]),\n",
    " np.hstack([cv2.GaussianBlur(img, ( 5, 5), 0),\n",
    " cv2.GaussianBlur(img, ( 7, 7), 0)]),\n",
    " np.hstack([cv2.GaussianBlur(img, ( 9, 9), 0),\n",
    " cv2.GaussianBlur(img, (11, 11), 0)]),\n",
    " ])\n",
    "\n",
    "\n",
    "cv2.imshow(\"Imagens suavisadas (Blur)\", suave)\n",
    "cv2.imwrite(\"Ponte Suavisada usando Gaussiana.jpg\", suave)\n",
    "cv2.waitKey(0)\n"
   ]
  },
  {
   "cell_type": "code",
   "execution_count": null,
   "id": "12258455-f556-4bc2-8300-bfa983545a17",
   "metadata": {},
   "outputs": [],
   "source": []
  }
 ],
 "metadata": {
  "kernelspec": {
   "display_name": "Python 3 (ipykernel)",
   "language": "python",
   "name": "python3"
  },
  "language_info": {
   "codemirror_mode": {
    "name": "ipython",
    "version": 3
   },
   "file_extension": ".py",
   "mimetype": "text/x-python",
   "name": "python",
   "nbconvert_exporter": "python",
   "pygments_lexer": "ipython3",
   "version": "3.9.13"
  }
 },
 "nbformat": 4,
 "nbformat_minor": 5
}
