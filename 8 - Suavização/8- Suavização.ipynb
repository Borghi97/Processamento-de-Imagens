{
 "cells": [
  {
   "cell_type": "code",
   "execution_count": 4,
   "id": "d9cdd9eb-43f3-4253-a0ef-a92591f2e085",
   "metadata": {},
   "outputs": [
    {
     "name": "stdout",
     "output_type": "stream",
     "text": [
      "4.7.0\n"
     ]
    }
   ],
   "source": [
    "from matplotlib import pyplot as plt\n",
    "import numpy as np\n",
    "import cv2\n",
    "print(cv2.__version__)\n"
   ]
  },
  {
   "cell_type": "code",
   "execution_count": 5,
   "id": "705e1eea-4222-4146-a534-efb988137e40",
   "metadata": {},
   "outputs": [
    {
     "data": {
      "text/plain": [
       "48"
      ]
     },
     "execution_count": 5,
     "metadata": {},
     "output_type": "execute_result"
    }
   ],
   "source": [
    "img = cv2.imread('ponte.jpg')\n",
    "img = img[::2,::2] #Diminuir a imagem\n",
    "\n",
    "\n",
    "#Funções vstack(pilha vertical) e hstack(pilha horizontal) para juntar as imagens em uma única img final\n",
    "#Modelos com 3x3, 5x5, 7x7, 9x9 e 11x11, conforme a faixa aumenta a caixa é maior e o efeito de blur na imagem tb.\n",
    "suave = np.vstack([\n",
    "np.hstack([img, cv2.blur(img, (3,3))]),\n",
    "    np.hstack([cv2.blur(img, (5,5)), cv2.blur(img, (7,7))]),\n",
    "    np.hstack([cv2.blur(img, (9,9)), cv2.blur(img, (11,11))]),\n",
    "])\n",
    "cv2.imshow(\"Imagens suavisadas (Blur)\", suave)\n",
    "cv2.imwrite(\"Ponte tons de Blur.jpg\", suave)\n",
    "cv2.waitKey(0)\n"
   ]
  },
  {
   "cell_type": "code",
   "execution_count": null,
   "id": "12258455-f556-4bc2-8300-bfa983545a17",
   "metadata": {},
   "outputs": [],
   "source": []
  }
 ],
 "metadata": {
  "kernelspec": {
   "display_name": "Python 3 (ipykernel)",
   "language": "python",
   "name": "python3"
  },
  "language_info": {
   "codemirror_mode": {
    "name": "ipython",
    "version": 3
   },
   "file_extension": ".py",
   "mimetype": "text/x-python",
   "name": "python",
   "nbconvert_exporter": "python",
   "pygments_lexer": "ipython3",
   "version": "3.9.13"
  }
 },
 "nbformat": 4,
 "nbformat_minor": 5
}
