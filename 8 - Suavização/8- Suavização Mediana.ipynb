{
 "cells": [
  {
   "cell_type": "code",
   "execution_count": 7,
   "id": "d9cdd9eb-43f3-4253-a0ef-a92591f2e085",
   "metadata": {},
   "outputs": [
    {
     "name": "stdout",
     "output_type": "stream",
     "text": [
      "4.7.0\n"
     ]
    }
   ],
   "source": [
    "from matplotlib import pyplot as plt\n",
    "import numpy as np\n",
    "import cv2\n",
    "print(cv2.__version__)\n"
   ]
  },
  {
   "cell_type": "code",
   "execution_count": 10,
   "id": "705e1eea-4222-4146-a534-efb988137e40",
   "metadata": {},
   "outputs": [
    {
     "data": {
      "text/plain": [
       "-1"
      ]
     },
     "execution_count": 10,
     "metadata": {},
     "output_type": "execute_result"
    }
   ],
   "source": [
    "img = cv2.imread('ponte.jpg')\n",
    "\n",
    "img = img[::2, ::2]\n",
    "\n",
    "#Usando a mediana para aplicar a suavização\n",
    "suave = np.vstack([\n",
    " np.hstack([img,\n",
    " cv2.medianBlur(img, 3)]),\n",
    " np.hstack([cv2.medianBlur(img, 5),\n",
    " cv2.medianBlur(img, 7)]),\n",
    " np.hstack([cv2.medianBlur(img, 9),\n",
    " cv2.medianBlur(img, 11)]),\n",
    " ])\n",
    "\n",
    "\n",
    "cv2.imshow(\"Imagens suavisadas (Blur)\", suave)\n",
    "cv2.imwrite(\"Ponte Suavisada usando Mediana.jpg\", suave)\n",
    "cv2.waitKey(0)\n"
   ]
  },
  {
   "cell_type": "code",
   "execution_count": null,
   "id": "12258455-f556-4bc2-8300-bfa983545a17",
   "metadata": {},
   "outputs": [],
   "source": []
  }
 ],
 "metadata": {
  "kernelspec": {
   "display_name": "Python 3 (ipykernel)",
   "language": "python",
   "name": "python3"
  },
  "language_info": {
   "codemirror_mode": {
    "name": "ipython",
    "version": 3
   },
   "file_extension": ".py",
   "mimetype": "text/x-python",
   "name": "python",
   "nbconvert_exporter": "python",
   "pygments_lexer": "ipython3",
   "version": "3.9.13"
  }
 },
 "nbformat": 4,
 "nbformat_minor": 5
}
